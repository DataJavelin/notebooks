{
 "cells": [
  {
   "cell_type": "code",
   "execution_count": 1,
   "metadata": {
    "collapsed": false
   },
   "outputs": [],
   "source": [
    "import sys\n",
    "# Assuming we are in the notebook directory add this so that we can import the library\n",
    "sys.path.append('..')\n",
    "\n",
    "import os\n",
    "import numpy as np\n",
    "from functools import partial\n",
    "import matplotlib\n",
    "import matplotlib.pyplot as plt\n",
    "import scipy.io as sio\n",
    "import scipy.stats as ss\n",
    "import scipy.spatial as spa\n",
    "\n",
    "import elfi\n",
    "# This is the examples folder in the elfi repo\n",
    "import examples.ma2\n",
    "\n",
    "# matplotlib.style.use('ggplot')\n",
    "%matplotlib inline"
   ]
  },
  {
   "cell_type": "markdown",
   "metadata": {},
   "source": [
    "# Using other than Python operations with ELFI"
   ]
  },
  {
   "cell_type": "markdown",
   "metadata": {},
   "source": [
    "If your simulator or other operations are implemented in a programming language other than Python, you can still use ELFI. This notebook briefly demonstrates how to do this in 3 common scenarios:\n",
    "\n",
    "* External executable (written e.g. in C++ or a shell script)\n",
    "* R function\n",
    "* MATLAB function\n",
    "\n",
    "**Note:** to run some parts of this notebook you need to either compile the simulator, have R or MATLAB installed and install their respective wrapper libraries."
   ]
  },
  {
   "cell_type": "markdown",
   "metadata": {},
   "source": [
    "## External executables"
   ]
  },
  {
   "cell_type": "markdown",
   "metadata": {},
   "source": [
    "ELFI supports using external simulators and other operations that can be called from the command-line. ELFI provides some tools to easily incorporate such operations to ELFI models. This functionality is briefly introduced in this notebook. For an introductory tutorial on ELFI, please see the ELFI_tutorial notebook. \n",
    "\n",
    "### Birth-Death-Mutation process\n",
    "\n",
    "We will consider here the Birth-Death-Mutation process simulator introduced in *Tanaka et al 2006 [1]* for the spread of Tuberculosis. The simulator outputs a count vector where each of its elements represents a \"mutation\" of the disease and the count describes how many are currently infected by that mutation. There are three rates and the population size:\n",
    "\n",
    "- $\\alpha$ - (birth rate) the rate at which any infectious host transmits the disease.\n",
    "- $\\delta$ - (death rate) the rate at which any existing infectious hosts either recovers or dies.\n",
    "- $\\tau$ - (mutation rate) the rate at which any infectious host develops a new unseen mutation of the disease within themselves.\n",
    "- $N$ - (population size) the size of the simulated infectious population\n",
    "\n",
    "It is assumed that the susceptible population is infinite, the hosts carry only one mutation of the disease and transmit that mutation onward. A more accurate description of the model can be found from the original paper or e.g. [*Lintusaari at al 2016*](https://doi.org/10.1093/sysbio/syw077) *[2]*.\n",
    "\n",
    "<img src=\"resources/bdm.png\" alt=\"BDM model illustration from Lintusaari et al. 2016\" style=\"width: 400px;\"/>\n",
    "\n",
    "This simulator cannot be implemented effectively with vectorized operations so we have implemented it with C++ that handles loops efficiently. We will now reproduce Figure 6(a) in [*Lintusaari at al 2016*](https://doi.org/10.1093/sysbio/syw077) *[2]* with ELFI. Let's start by defining some constants:"
   ]
  },
  {
   "cell_type": "code",
   "execution_count": 2,
   "metadata": {
    "collapsed": false
   },
   "outputs": [],
   "source": [
    "# Fixed model parameters\n",
    "delta = 0\n",
    "tau = 0.198\n",
    "N = 20\n",
    "\n",
    "# The zeros are to make the observed population vector have length N\n",
    "y_obs = np.array([6, 3, 2, 2, 1, 1, 1, 1, 1, 1, 1, 0, 0, 0, 0, 0, 0, 0, 0, 0], dtype='int16')"
   ]
  },
  {
   "cell_type": "markdown",
   "metadata": {},
   "source": [
    "Let's build the beginning of a new model for the birth rate $\\alpha$ as the only unknown"
   ]
  },
  {
   "cell_type": "code",
   "execution_count": 3,
   "metadata": {
    "collapsed": false
   },
   "outputs": [
    {
     "data": {
      "text/plain": [
       "Prior(name='alpha', 'uniform')"
      ]
     },
     "execution_count": 3,
     "metadata": {},
     "output_type": "execute_result"
    }
   ],
   "source": [
    "m = elfi.ElfiModel(name='bdm')\n",
    "elfi.Prior('uniform', .005, 2, model=m, name='alpha')"
   ]
  },
  {
   "cell_type": "markdown",
   "metadata": {},
   "source": [
    "### Wrapping External executables\n",
    "\n",
    "We now need to wrap the executable as an ELFI node for the model. We can use `elfi.tools.external_operation` tool to wrap any executables as a Python callables (function). Let's first investigate how it works with a simple shell `echo` command:"
   ]
  },
  {
   "cell_type": "code",
   "execution_count": 4,
   "metadata": {
    "collapsed": false
   },
   "outputs": [
    {
     "data": {
      "text/plain": [
       "array([   3.,    1.,  123.])"
      ]
     },
     "execution_count": 4,
     "metadata": {},
     "output_type": "execute_result"
    }
   ],
   "source": [
    "# Make an external command as an elfi operation. {0} {1} are positional arguments and {seed} a keyword argument `seed`.\n",
    "command = 'echo {0} {1} {seed}'\n",
    "echo_sim = elfi.tools.external_operation(command)\n",
    "\n",
    "# Test that `echo_sim` can now be called as a regular python function\n",
    "echo_sim(3, 1, seed=123)"
   ]
  },
  {
   "cell_type": "markdown",
   "metadata": {},
   "source": [
    "The placeholders for arguments in the command string are just Python's [`format strings`](https://docs.python.org/3/library/string.html#formatstrings).\n",
    "\n",
    "Currently `echo_sim` only accepts scalar arguments. In order to work in ELFI, `echo_sim` needs to be vectorized so that we can pass to it a vector of arguments. ELFI provides a handy tool for this as well:"
   ]
  },
  {
   "cell_type": "code",
   "execution_count": 5,
   "metadata": {
    "collapsed": false
   },
   "outputs": [
    {
     "data": {
      "text/plain": [
       "array([[  3.45151431e-01,   0.00000000e+00,   1.94716209e+09],\n",
       "       [  1.87749960e+00,   0.00000000e+00,   1.84023783e+09],\n",
       "       [  1.28349970e+00,   0.00000000e+00,   4.03813052e+09]])"
      ]
     },
     "execution_count": 5,
     "metadata": {},
     "output_type": "execute_result"
    }
   ],
   "source": [
    "# Vectorize it with elfi tools\n",
    "echo_sim_vec = elfi.tools.vectorize(echo_sim)\n",
    "\n",
    "# Add it to the model\n",
    "elfi.Simulator(echo_sim_vec, m['alpha'], 0, name='sim')\n",
    "\n",
    "# Test to generate 3 simulations from it\n",
    "m['sim'].generate(3)"
   ]
  },
  {
   "cell_type": "markdown",
   "metadata": {},
   "source": [
    "So above, we had in the first column draws from our uniform prior for $\\alpha$, the second column was constant zeros, and the last one gave seeds to our command that we here just printed out.\n",
    "\n",
    "### More complex wrapping of external operations $-$ case BDM\n",
    "\n",
    "Lets now wrap the actual BDM simulator in place of the echo simulator. We assume the executable `bdm` is located at the same directory where this notebook is run from.\n",
    "\n",
    "**Note**: The code for the BDM simulator is found from the ELFI repository under path `examples/cpp/bdm/bdm.cpp`. Under unix systems it can be compiled with just typing `make` to console in the source directory. For windows systems, you need to have some C++ compiler available to compile it."
   ]
  },
  {
   "cell_type": "code",
   "execution_count": 6,
   "metadata": {
    "collapsed": false
   },
   "outputs": [],
   "source": [
    "# Compile for unix\n",
    "# !make -C ../examples/cpp/bdm\n",
    "\n",
    "# Move the file in to the working directory\n",
    "# !mv ../examples/cpp/bdm/bdm ."
   ]
  },
  {
   "cell_type": "code",
   "execution_count": 7,
   "metadata": {
    "collapsed": false
   },
   "outputs": [
    {
     "data": {
      "text/plain": [
       "array([ 19.,   1.,   0.,   0.,   0.,   0.,   0.,   0.,   0.,   0.,   0.,\n",
       "         0.,   0.,   0.,   0.,   0.,   0.,   0.,   0.,   0.])"
      ]
     },
     "execution_count": 7,
     "metadata": {},
     "output_type": "execute_result"
    }
   ],
   "source": [
    "# Test the executable (assuming we have the executable `bdm` in the working directory)\n",
    "sim = elfi.tools.external_operation('./bdm {0} {1} {2} {3} --seed {seed} --mode 1')\n",
    "sim(1, delta, tau, N, seed=123)"
   ]
  },
  {
   "cell_type": "markdown",
   "metadata": {
    "collapsed": true
   },
   "source": [
    "The BDM simulator is actually already internally vectorized if you provide it an input file with parameters on the rows. This is more efficient than looping in Python (`elfi.tools.vectorize`), because one simulation takes very little time and we wish to generate tens of thousands of simulations. We will also here redirect the output to a file and then read the file into a numpy array. \n",
    "\n",
    "This is just one possibility among the many to implement this. The most efficient would be to write a native Python module with C++ but it's beyond the scope of this article. So let's work through files which is fairly common situation especially with existing software."
   ]
  },
  {
   "cell_type": "code",
   "execution_count": 8,
   "metadata": {
    "collapsed": false
   },
   "outputs": [],
   "source": [
    "# Assuming we have the executable `bdm` in the working directory\n",
    "command = './bdm {filename} --seed {seed} --mode 1 > {output_filename}'\n",
    "\n",
    "\n",
    "# Function to prepare the inputs for the simulator. We will create filenames and write an input file.\n",
    "def prepare_inputs(*inputs, **kwinputs):\n",
    "    alpha, delta, tau, N = inputs\n",
    "    meta = kwinputs['meta']\n",
    "\n",
    "    # Organize the parameters to an array. The broadcasting works nicely with constant arguments here.\n",
    "    param_array = np.row_stack(np.broadcast(alpha, delta, tau, N))\n",
    "    \n",
    "    # Prepare a unique filename for parallel settings\n",
    "    filename = '{model_name}_{batch_index}_{submission_index}.txt'.format(**meta)\n",
    "    np.savetxt(filename, param_array, fmt='%.4f %.4f %.4f %d')\n",
    "\n",
    "    # Add the filenames to kwinputs\n",
    "    kwinputs['filename'] = filename\n",
    "    kwinputs['output_filename'] = filename[:-4] + '_out.txt'\n",
    "    \n",
    "    # Return new inputs that the command will receive\n",
    "    return inputs, kwinputs\n",
    "\n",
    "\n",
    "# Function to process the result of the simulation\n",
    "def process_result(completed_process, *inputs, **kwinputs):\n",
    "    output_filename = kwinputs['output_filename']\n",
    "    \n",
    "    # Read the simulations from the file.\n",
    "    simulations = np.loadtxt(output_filename, dtype='int16')\n",
    "    \n",
    "    # Clean up the files after reading the data in\n",
    "    os.remove(kwinputs['filename'])\n",
    "    os.remove(output_filename)\n",
    "    \n",
    "    # This will be passed to ELFI as the result of the command\n",
    "    return simulations\n",
    "\n",
    "\n",
    "# Create the python function (do not read stdout since we will work through files)\n",
    "bdm = elfi.tools.external_operation(command, \n",
    "                                    prepare_inputs=prepare_inputs, \n",
    "                                    process_result=process_result, \n",
    "                                    stdout=False)"
   ]
  },
  {
   "cell_type": "markdown",
   "metadata": {},
   "source": [
    "Now let's replace the echo simulator with this. To create unique but informative filenames, we ask ELFI to provide the operation some meta information. That will be available under the `meta` keyword (see the `prepare_inputs` function above):"
   ]
  },
  {
   "cell_type": "code",
   "execution_count": 9,
   "metadata": {
    "collapsed": false
   },
   "outputs": [
    {
     "data": {
      "image/svg+xml": [
       "<?xml version=\"1.0\" encoding=\"UTF-8\" standalone=\"no\"?>\n",
       "<!DOCTYPE svg PUBLIC \"-//W3C//DTD SVG 1.1//EN\"\n",
       " \"http://www.w3.org/Graphics/SVG/1.1/DTD/svg11.dtd\">\n",
       "<!-- Generated by graphviz version 2.38.0 (20140413.2041)\n",
       " -->\n",
       "<!-- Title: %3 Pages: 1 -->\n",
       "<svg width=\"72pt\" height=\"158pt\"\n",
       " viewBox=\"0.00 0.00 71.90 157.88\" xmlns=\"http://www.w3.org/2000/svg\" xmlns:xlink=\"http://www.w3.org/1999/xlink\">\n",
       "<g id=\"graph0\" class=\"graph\" transform=\"scale(1 1) rotate(0) translate(4 153.877)\">\n",
       "<title>%3</title>\n",
       "<polygon fill=\"white\" stroke=\"none\" points=\"-4,4 -4,-153.877 67.9011,-153.877 67.9011,4 -4,4\"/>\n",
       "<!-- alpha -->\n",
       "<g id=\"node1\" class=\"node\"><title>alpha</title>\n",
       "<ellipse fill=\"none\" stroke=\"black\" cx=\"31.9506\" cy=\"-117.926\" rx=\"31.9012\" ry=\"31.9012\"/>\n",
       "<text text-anchor=\"middle\" x=\"31.9506\" y=\"-113.726\" font-family=\"Times,serif\" font-size=\"14.00\">alpha</text>\n",
       "</g>\n",
       "<!-- sim -->\n",
       "<g id=\"node2\" class=\"node\"><title>sim</title>\n",
       "<ellipse fill=\"#cccccc\" stroke=\"black\" cx=\"31.9506\" cy=\"-24.9879\" rx=\"24.9758\" ry=\"24.9758\"/>\n",
       "<text text-anchor=\"middle\" x=\"31.9506\" y=\"-20.7879\" font-family=\"Times,serif\" font-size=\"14.00\">sim</text>\n",
       "</g>\n",
       "<!-- alpha&#45;&gt;sim -->\n",
       "<g id=\"edge1\" class=\"edge\"><title>alpha&#45;&gt;sim</title>\n",
       "<path fill=\"none\" stroke=\"black\" d=\"M31.9506,-85.8848C31.9506,-77.6362 31.9506,-68.6809 31.9506,-60.27\"/>\n",
       "<polygon fill=\"black\" stroke=\"black\" points=\"35.4507,-60.0017 31.9506,-50.0017 28.4507,-60.0018 35.4507,-60.0017\"/>\n",
       "</g>\n",
       "</g>\n",
       "</svg>\n"
      ],
      "text/plain": [
       "<graphviz.dot.Digraph at 0x7fb071d1f588>"
      ]
     },
     "execution_count": 9,
     "metadata": {},
     "output_type": "execute_result"
    }
   ],
   "source": [
    "# Create the simulator\n",
    "bdm_node = elfi.Simulator(bdm, m['alpha'], delta, tau, N, observed=y_obs)\n",
    "m['sim'].become(bdm_node)\n",
    "\n",
    "# Ask ELFI to provide the meta dict\n",
    "bdm_node.uses_meta = True\n",
    "\n",
    "# Draw the model\n",
    "elfi.draw(m)"
   ]
  },
  {
   "cell_type": "code",
   "execution_count": 10,
   "metadata": {
    "collapsed": false
   },
   "outputs": [
    {
     "name": "stdout",
     "output_type": "stream",
     "text": [
      "[[ 3  1  1  2  2  1  1  1  1  1  1  1  1  1  1  1  0  0  0  0]\n",
      " [15  4  1  0  0  0  0  0  0  0  0  0  0  0  0  0  0  0  0  0]\n",
      " [11  1  1  5  1  1  0  0  0  0  0  0  0  0  0  0  0  0  0  0]]\n"
     ]
    }
   ],
   "source": [
    "# Test it\n",
    "data = bdm_node.generate(3)\n",
    "print(data)"
   ]
  },
  {
   "cell_type": "markdown",
   "metadata": {},
   "source": [
    "### Completing the BDM model\n",
    "\n",
    "We are now ready to finish up the BDM model. To reproduce Figure 6(a) in [*Lintusaari at al 2016*](https://doi.org/10.1093/sysbio/syw077) *[2]*, let's add different summaries and discrepancies to the model and run the inference for each of them:"
   ]
  },
  {
   "cell_type": "code",
   "execution_count": 11,
   "metadata": {
    "collapsed": false
   },
   "outputs": [
    {
     "data": {
      "text/plain": [
       "Distance(name='d_sim')"
      ]
     },
     "execution_count": 11,
     "metadata": {},
     "output_type": "execute_result"
    }
   ],
   "source": [
    "def T1(clusters):\n",
    "    clusters = np.atleast_2d(clusters)\n",
    "    return np.sum(clusters > 0, 1)/np.sum(clusters, 1)\n",
    "\n",
    "def T2(clusters, n=20):\n",
    "    clusters = np.atleast_2d(clusters)\n",
    "    return 1 - np.sum((clusters/n)**2, axis=1)\n",
    "\n",
    "# Add the different distances to the model\n",
    "elfi.Summary(T1, bdm_node, name='T1')\n",
    "elfi.Distance('minkowski', m['T1'], p=1, name='d_T1')\n",
    "\n",
    "elfi.Summary(T2, bdm_node, name='T2')\n",
    "elfi.Distance('minkowski', m['T2'], p=1, name='d_T2')\n",
    "\n",
    "elfi.Distance('minkowski', m['sim'], p=1, name='d_sim')"
   ]
  },
  {
   "cell_type": "code",
   "execution_count": 12,
   "metadata": {
    "collapsed": false
   },
   "outputs": [
    {
     "data": {
      "image/svg+xml": [
       "<?xml version=\"1.0\" encoding=\"UTF-8\" standalone=\"no\"?>\n",
       "<!DOCTYPE svg PUBLIC \"-//W3C//DTD SVG 1.1//EN\"\n",
       " \"http://www.w3.org/Graphics/SVG/1.1/DTD/svg11.dtd\">\n",
       "<!-- Generated by graphviz version 2.38.0 (20140413.2041)\n",
       " -->\n",
       "<!-- Title: %3 Pages: 1 -->\n",
       "<svg width=\"224pt\" height=\"362pt\"\n",
       " viewBox=\"0.00 0.00 224.07 362.01\" xmlns=\"http://www.w3.org/2000/svg\" xmlns:xlink=\"http://www.w3.org/1999/xlink\">\n",
       "<g id=\"graph0\" class=\"graph\" transform=\"scale(1 1) rotate(0) translate(4 358.009)\">\n",
       "<title>%3</title>\n",
       "<polygon fill=\"white\" stroke=\"none\" points=\"-4,4 -4,-358.009 220.066,-358.009 220.066,4 -4,4\"/>\n",
       "<!-- d_sim -->\n",
       "<g id=\"node1\" class=\"node\"><title>d_sim</title>\n",
       "<ellipse fill=\"none\" stroke=\"black\" cx=\"34.6448\" cy=\"-133.488\" rx=\"34.7903\" ry=\"34.7903\"/>\n",
       "<text text-anchor=\"middle\" x=\"34.6448\" y=\"-129.288\" font-family=\"Times,serif\" font-size=\"14.00\">d_sim</text>\n",
       "</g>\n",
       "<!-- T2 -->\n",
       "<g id=\"node2\" class=\"node\"><title>T2</title>\n",
       "<ellipse fill=\"#cccccc\" stroke=\"black\" cx=\"108.645\" cy=\"-133.488\" rx=\"21.5313\" ry=\"21.5313\"/>\n",
       "<text text-anchor=\"middle\" x=\"108.645\" y=\"-129.288\" font-family=\"Times,serif\" font-size=\"14.00\">T2</text>\n",
       "</g>\n",
       "<!-- d_T2 -->\n",
       "<g id=\"node7\" class=\"node\"><title>d_T2</title>\n",
       "<ellipse fill=\"none\" stroke=\"black\" cx=\"103.645\" cy=\"-31.4214\" rx=\"31.3429\" ry=\"31.3429\"/>\n",
       "<text text-anchor=\"middle\" x=\"103.645\" y=\"-27.2214\" font-family=\"Times,serif\" font-size=\"14.00\">d_T2</text>\n",
       "</g>\n",
       "<!-- T2&#45;&gt;d_T2 -->\n",
       "<g id=\"edge1\" class=\"edge\"><title>T2&#45;&gt;d_T2</title>\n",
       "<path fill=\"none\" stroke=\"black\" d=\"M107.584,-111.266C107.033,-100.221 106.339,-86.3331 105.688,-73.3029\"/>\n",
       "<polygon fill=\"black\" stroke=\"black\" points=\"109.173,-72.9203 105.178,-63.1075 102.182,-73.2697 109.173,-72.9203\"/>\n",
       "</g>\n",
       "<!-- alpha -->\n",
       "<g id=\"node3\" class=\"node\"><title>alpha</title>\n",
       "<ellipse fill=\"none\" stroke=\"black\" cx=\"108.645\" cy=\"-322.059\" rx=\"31.9012\" ry=\"31.9012\"/>\n",
       "<text text-anchor=\"middle\" x=\"108.645\" y=\"-317.859\" font-family=\"Times,serif\" font-size=\"14.00\">alpha</text>\n",
       "</g>\n",
       "<!-- sim -->\n",
       "<g id=\"node5\" class=\"node\"><title>sim</title>\n",
       "<ellipse fill=\"#cccccc\" stroke=\"black\" cx=\"108.645\" cy=\"-229.12\" rx=\"24.9758\" ry=\"24.9758\"/>\n",
       "<text text-anchor=\"middle\" x=\"108.645\" y=\"-224.92\" font-family=\"Times,serif\" font-size=\"14.00\">sim</text>\n",
       "</g>\n",
       "<!-- alpha&#45;&gt;sim -->\n",
       "<g id=\"edge2\" class=\"edge\"><title>alpha&#45;&gt;sim</title>\n",
       "<path fill=\"none\" stroke=\"black\" d=\"M108.645,-290.017C108.645,-281.769 108.645,-272.813 108.645,-264.402\"/>\n",
       "<polygon fill=\"black\" stroke=\"black\" points=\"112.145,-264.134 108.645,-254.134 105.145,-264.134 112.145,-264.134\"/>\n",
       "</g>\n",
       "<!-- T1 -->\n",
       "<g id=\"node4\" class=\"node\"><title>T1</title>\n",
       "<ellipse fill=\"#cccccc\" stroke=\"black\" cx=\"179.645\" cy=\"-133.488\" rx=\"21.5313\" ry=\"21.5313\"/>\n",
       "<text text-anchor=\"middle\" x=\"179.645\" y=\"-129.288\" font-family=\"Times,serif\" font-size=\"14.00\">T1</text>\n",
       "</g>\n",
       "<!-- d_T1 -->\n",
       "<g id=\"node6\" class=\"node\"><title>d_T1</title>\n",
       "<ellipse fill=\"none\" stroke=\"black\" cx=\"184.645\" cy=\"-31.4214\" rx=\"31.3429\" ry=\"31.3429\"/>\n",
       "<text text-anchor=\"middle\" x=\"184.645\" y=\"-27.2214\" font-family=\"Times,serif\" font-size=\"14.00\">d_T1</text>\n",
       "</g>\n",
       "<!-- T1&#45;&gt;d_T1 -->\n",
       "<g id=\"edge3\" class=\"edge\"><title>T1&#45;&gt;d_T1</title>\n",
       "<path fill=\"none\" stroke=\"black\" d=\"M180.705,-111.266C181.257,-100.221 181.951,-86.3331 182.602,-73.3029\"/>\n",
       "<polygon fill=\"black\" stroke=\"black\" points=\"186.108,-73.2697 183.112,-63.1075 179.117,-72.9203 186.108,-73.2697\"/>\n",
       "</g>\n",
       "<!-- sim&#45;&gt;d_sim -->\n",
       "<g id=\"edge4\" class=\"edge\"><title>sim&#45;&gt;d_sim</title>\n",
       "<path fill=\"none\" stroke=\"black\" d=\"M93.312,-208.72C84.3372,-197.364 72.7363,-182.685 62.2227,-169.382\"/>\n",
       "<polygon fill=\"black\" stroke=\"black\" points=\"64.7968,-166.994 55.8503,-161.319 59.3049,-171.335 64.7968,-166.994\"/>\n",
       "</g>\n",
       "<!-- sim&#45;&gt;T2 -->\n",
       "<g id=\"edge5\" class=\"edge\"><title>sim&#45;&gt;T2</title>\n",
       "<path fill=\"none\" stroke=\"black\" d=\"M108.645,-204.008C108.645,-192.239 108.645,-177.946 108.645,-165.387\"/>\n",
       "<polygon fill=\"black\" stroke=\"black\" points=\"112.145,-165.339 108.645,-155.339 105.145,-165.339 112.145,-165.339\"/>\n",
       "</g>\n",
       "<!-- sim&#45;&gt;T1 -->\n",
       "<g id=\"edge6\" class=\"edge\"><title>sim&#45;&gt;T1</title>\n",
       "<path fill=\"none\" stroke=\"black\" d=\"M123.356,-208.72C134.186,-194.438 149.001,-174.9 160.714,-159.453\"/>\n",
       "<polygon fill=\"black\" stroke=\"black\" points=\"163.603,-161.435 166.857,-151.352 158.026,-157.206 163.603,-161.435\"/>\n",
       "</g>\n",
       "</g>\n",
       "</svg>\n"
      ],
      "text/plain": [
       "<graphviz.dot.Digraph at 0x7fb071c4d710>"
      ]
     },
     "execution_count": 12,
     "metadata": {},
     "output_type": "execute_result"
    }
   ],
   "source": [
    "elfi.draw(m)"
   ]
  },
  {
   "cell_type": "code",
   "execution_count": 13,
   "metadata": {
    "collapsed": false
   },
   "outputs": [
    {
     "name": "stdout",
     "output_type": "stream",
     "text": [
      "CPU times: user 3.92 s, sys: 48 ms, total: 3.96 s\n",
      "Wall time: 4.95 s\n",
      "CPU times: user 28 ms, sys: 0 ns, total: 28 ms\n",
      "Wall time: 26.8 ms\n",
      "CPU times: user 28 ms, sys: 4 ms, total: 32 ms\n",
      "Wall time: 28.3 ms\n"
     ]
    }
   ],
   "source": [
    "# Save parameter and simulation results in memory to speed up the later inference\n",
    "pool = elfi.OutputPool(['alpha', 'sim'])\n",
    "# Fix a seed\n",
    "seed = 20170511\n",
    "\n",
    "rej = elfi.Rejection(m, 'd_T1', batch_size=10000, pool=pool, seed=seed)\n",
    "%time T1_res = rej.sample(5000, n_sim=int(1e5))\n",
    "\n",
    "rej = elfi.Rejection(m, 'd_T2', batch_size=10000, pool=pool, seed=seed)\n",
    "%time T2_res = rej.sample(5000, n_sim=int(1e5))\n",
    "\n",
    "rej = elfi.Rejection(m, 'd_sim', batch_size=10000, pool=pool, seed=seed)\n",
    "%time sim_res = rej.sample(5000, n_sim=int(1e5))"
   ]
  },
  {
   "cell_type": "code",
   "execution_count": 14,
   "metadata": {
    "collapsed": false
   },
   "outputs": [
    {
     "name": "stdout",
     "output_type": "stream",
     "text": [
      "Results after 100000 simulations. Compare to figure 6(a) in Lintusaari et al. 2016.\n"
     ]
    },
    {
     "data": {
      "image/png": "[encoded data removed]",
      "text/plain": [
       "<matplotlib.figure.Figure at 0x7fb071c4d630>"
      ]
     },
     "metadata": {},
     "output_type": "display_data"
    }
   ],
   "source": [
    "# Load a precomputed posterior based on an analytic solution (see Lintusaari et al 2016)\n",
    "matdata = sio.loadmat('../examples/bdm_lik.mat')\n",
    "x = matdata['likgrid'].reshape(-1)\n",
    "posterior_at_x = matdata['post'].reshape(-1)\n",
    "\n",
    "# Plot the reference\n",
    "plt.figure()\n",
    "plt.plot(x, posterior_at_x, c='k')\n",
    "\n",
    "# Plot the different curves\n",
    "for res, d_node, c in ([sim_res, 'd_sim', 'b'], [T1_res, 'd_T1', 'g'], [T2_res, 'd_T2', 'r']):\n",
    "    alphas = res.outputs['alpha']\n",
    "    dists = res.outputs[d_node]\n",
    "    # Use gaussian kde to make the curves look nice. Note that this tends to benefit the algorithm 1 \n",
    "    # a lot as it ususally has only a very few accepted samples with 100000 simulations\n",
    "    kde = ss.gaussian_kde(alphas[dists<=0])\n",
    "    plt.plot(x, kde(x), c=c)\n",
    "    \n",
    "plt.legend(['reference', 'algorithm 1', 'algorithm 2, T1\\n(eps=0)', 'algorithm 2, T2\\n(eps=0)'])\n",
    "plt.xlim([-.2, 1.2]);\n",
    "print('Results after 100000 simulations. Compare to figure 6(a) in Lintusaari et al. 2016.')"
   ]
  },
  {
   "cell_type": "markdown",
   "metadata": {},
   "source": [
    "## Interfacing with R"
   ]
  },
  {
   "cell_type": "markdown",
   "metadata": {},
   "source": [
    "It is possible to run R scripts in command line for example with [Rscript](http://stat.ethz.ch/R-manual/R-devel/library/utils/html/Rscript.html). However, in Python it may be more convenient to use [rpy2](http://rpy2.readthedocs.io), which allows convenient access to the functionality of R from within Python. You can install it with `pip install rpy2`.\n",
    "\n",
    "Here we demonstrate how to calculate the summary statistics used in the ELFI tutorial (autocovariances) using R's `acf` function for the MA2 model.\n",
    "\n",
    "**Note:** See this [issue](https://github.com/ContinuumIO/anaconda-issues/issues/152) if you get a `undefined symbol: PC` error in the import after installing rpy2."
   ]
  },
  {
   "cell_type": "code",
   "execution_count": 15,
   "metadata": {
    "collapsed": false
   },
   "outputs": [],
   "source": [
    "import rpy2.robjects as robj\n",
    "from rpy2.robjects import numpy2ri as np2ri\n",
    "\n",
    "# Converts numpy arrays automatically\n",
    "np2ri.activate()"
   ]
  },
  {
   "cell_type": "markdown",
   "metadata": {},
   "source": [
    "Let's create a Python function that wraps the R commands (please see the documentation of [rpy2](http://rpy2.readthedocs.io) for details):"
   ]
  },
  {
   "cell_type": "code",
   "execution_count": 16,
   "metadata": {
    "collapsed": false
   },
   "outputs": [],
   "source": [
    "\n",
    "robj.r('''\n",
    "    # create a function `f`\n",
    "    f <- function(x, lag=1) {\n",
    "        ac = acf(x, plot=FALSE, type=\"covariance\", lag.max=lag, demean=FALSE)\n",
    "        ac[['acf']][lag+1]\n",
    "    }\n",
    "    ''')\n",
    "\n",
    "f = robj.globalenv['f']\n",
    "\n",
    "def autocovR(x, lag=1):\n",
    "    x = np.atleast_2d(x)\n",
    "    apply = robj.r['apply']\n",
    "    ans = apply(x, 1, f, lag=lag)\n",
    "    return np.atleast_1d(ans)"
   ]
  },
  {
   "cell_type": "code",
   "execution_count": 17,
   "metadata": {
    "collapsed": false
   },
   "outputs": [
    {
     "data": {
      "text/plain": [
       "array([  5.,  23.])"
      ]
     },
     "execution_count": 17,
     "metadata": {},
     "output_type": "execute_result"
    }
   ],
   "source": [
    "# Test it\n",
    "autocovR(np.array([[1,2,3,4], [4,5,6,7]]), 1)"
   ]
  },
  {
   "cell_type": "code",
   "execution_count": 18,
   "metadata": {
    "collapsed": false
   },
   "outputs": [
    {
     "data": {
      "text/plain": [
       "array([  6.66666667,  30.66666667])"
      ]
     },
     "execution_count": 18,
     "metadata": {},
     "output_type": "execute_result"
    }
   ],
   "source": [
    "examples.ma2.autocov(np.array([[1,2,3,4], [4,5,6,7]]), 1)"
   ]
  },
  {
   "cell_type": "markdown",
   "metadata": {},
   "source": [
    "Load a ready made MA2 model:"
   ]
  },
  {
   "cell_type": "code",
   "execution_count": 19,
   "metadata": {
    "collapsed": false
   },
   "outputs": [
    {
     "data": {
      "image/svg+xml": [
       "<?xml version=\"1.0\" encoding=\"UTF-8\" standalone=\"no\"?>\n",
       "<!DOCTYPE svg PUBLIC \"-//W3C//DTD SVG 1.1//EN\"\n",
       " \"http://www.w3.org/Graphics/SVG/1.1/DTD/svg11.dtd\">\n",
       "<!-- Generated by graphviz version 2.38.0 (20140413.2041)\n",
       " -->\n",
       "<!-- Title: %3 Pages: 1 -->\n",
       "<svg width=\"110pt\" height=\"368pt\"\n",
       " viewBox=\"0.00 0.00 110.47 367.50\" xmlns=\"http://www.w3.org/2000/svg\" xmlns:xlink=\"http://www.w3.org/1999/xlink\">\n",
       "<g id=\"graph0\" class=\"graph\" transform=\"scale(1 1) rotate(0) translate(4 363.502)\">\n",
       "<title>%3</title>\n",
       "<polygon fill=\"white\" stroke=\"none\" points=\"-4,4 -4,-363.502 106.467,-363.502 106.467,4 -4,4\"/>\n",
       "<!-- MA2 -->\n",
       "<g id=\"node1\" class=\"node\"><title>MA2</title>\n",
       "<ellipse fill=\"#cccccc\" stroke=\"black\" cx=\"51.2333\" cy=\"-181.887\" rx=\"31.341\" ry=\"31.341\"/>\n",
       "<text text-anchor=\"middle\" x=\"51.2333\" y=\"-177.687\" font-family=\"Times,serif\" font-size=\"14.00\">MA2</text>\n",
       "</g>\n",
       "<!-- S1 -->\n",
       "<g id=\"node3\" class=\"node\"><title>S1</title>\n",
       "<ellipse fill=\"#cccccc\" stroke=\"black\" cx=\"21.2333\" cy=\"-93.2333\" rx=\"21.4691\" ry=\"21.4691\"/>\n",
       "<text text-anchor=\"middle\" x=\"21.2333\" y=\"-89.0333\" font-family=\"Times,serif\" font-size=\"14.00\">S1</text>\n",
       "</g>\n",
       "<!-- MA2&#45;&gt;S1 -->\n",
       "<g id=\"edge1\" class=\"edge\"><title>MA2&#45;&gt;S1</title>\n",
       "<path fill=\"none\" stroke=\"black\" d=\"M41.2437,-152.033C38.0142,-142.704 34.4347,-132.365 31.2064,-123.04\"/>\n",
       "<polygon fill=\"black\" stroke=\"black\" points=\"34.4534,-121.72 27.8744,-113.416 27.8386,-124.011 34.4534,-121.72\"/>\n",
       "</g>\n",
       "<!-- S2 -->\n",
       "<g id=\"node6\" class=\"node\"><title>S2</title>\n",
       "<ellipse fill=\"#cccccc\" stroke=\"black\" cx=\"81.2333\" cy=\"-93.2333\" rx=\"21.4691\" ry=\"21.4691\"/>\n",
       "<text text-anchor=\"middle\" x=\"81.2333\" y=\"-89.0333\" font-family=\"Times,serif\" font-size=\"14.00\">S2</text>\n",
       "</g>\n",
       "<!-- MA2&#45;&gt;S2 -->\n",
       "<g id=\"edge2\" class=\"edge\"><title>MA2&#45;&gt;S2</title>\n",
       "<path fill=\"none\" stroke=\"black\" d=\"M61.2228,-152.033C64.4523,-142.704 68.0319,-132.365 71.2602,-123.04\"/>\n",
       "<polygon fill=\"black\" stroke=\"black\" points=\"74.628,-124.011 74.5922,-113.416 68.0132,-121.72 74.628,-124.011\"/>\n",
       "</g>\n",
       "<!-- t2 -->\n",
       "<g id=\"node2\" class=\"node\"><title>t2</title>\n",
       "<ellipse fill=\"none\" stroke=\"black\" cx=\"75.2333\" cy=\"-267.856\" rx=\"18.5974\" ry=\"18.5974\"/>\n",
       "<text text-anchor=\"middle\" x=\"75.2333\" y=\"-263.656\" font-family=\"Times,serif\" font-size=\"14.00\">t2</text>\n",
       "</g>\n",
       "<!-- t2&#45;&gt;MA2 -->\n",
       "<g id=\"edge3\" class=\"edge\"><title>t2&#45;&gt;MA2</title>\n",
       "<path fill=\"none\" stroke=\"black\" d=\"M70.3765,-249.864C68.0754,-241.813 65.2233,-231.834 62.4296,-222.06\"/>\n",
       "<polygon fill=\"black\" stroke=\"black\" points=\"65.7914,-221.085 59.6779,-212.432 59.0609,-223.009 65.7914,-221.085\"/>\n",
       "</g>\n",
       "<!-- d -->\n",
       "<g id=\"node5\" class=\"node\"><title>d</title>\n",
       "<ellipse fill=\"none\" stroke=\"black\" cx=\"51.2333\" cy=\"-18\" rx=\"18\" ry=\"18\"/>\n",
       "<text text-anchor=\"middle\" x=\"51.2333\" y=\"-13.8\" font-family=\"Times,serif\" font-size=\"14.00\">d</text>\n",
       "</g>\n",
       "<!-- S1&#45;&gt;d -->\n",
       "<g id=\"edge4\" class=\"edge\"><title>S1&#45;&gt;d</title>\n",
       "<path fill=\"none\" stroke=\"black\" d=\"M28.959,-73.3739C32.5668,-64.5668 36.9154,-53.9514 40.8091,-44.4465\"/>\n",
       "<polygon fill=\"black\" stroke=\"black\" points=\"44.0999,-45.6461 44.652,-35.0657 37.6224,-42.9926 44.0999,-45.6461\"/>\n",
       "</g>\n",
       "<!-- t1 -->\n",
       "<g id=\"node4\" class=\"node\"><title>t1</title>\n",
       "<ellipse fill=\"none\" stroke=\"black\" cx=\"51.2333\" cy=\"-340.953\" rx=\"18.5974\" ry=\"18.5974\"/>\n",
       "<text text-anchor=\"middle\" x=\"51.2333\" y=\"-336.753\" font-family=\"Times,serif\" font-size=\"14.00\">t1</text>\n",
       "</g>\n",
       "<!-- t1&#45;&gt;MA2 -->\n",
       "<g id=\"edge5\" class=\"edge\"><title>t1&#45;&gt;MA2</title>\n",
       "<path fill=\"none\" stroke=\"black\" d=\"M49.5668,-322.122C48.678,-311.716 47.678,-298.329 47.2333,-286.405 46.4584,-265.629 47.1989,-242.51 48.2442,-223.399\"/>\n",
       "<polygon fill=\"black\" stroke=\"black\" points=\"51.7487,-223.425 48.8486,-213.234 44.7611,-223.009 51.7487,-223.425\"/>\n",
       "</g>\n",
       "<!-- t1&#45;&gt;t2 -->\n",
       "<g id=\"edge6\" class=\"edge\"><title>t1&#45;&gt;t2</title>\n",
       "<path fill=\"none\" stroke=\"black\" d=\"M56.9209,-323.104C59.7305,-314.781 63.1854,-304.546 66.3345,-295.218\"/>\n",
       "<polygon fill=\"black\" stroke=\"black\" points=\"69.7042,-296.178 69.5864,-285.584 63.0719,-293.939 69.7042,-296.178\"/>\n",
       "</g>\n",
       "<!-- S2&#45;&gt;d -->\n",
       "<g id=\"edge7\" class=\"edge\"><title>S2&#45;&gt;d</title>\n",
       "<path fill=\"none\" stroke=\"black\" d=\"M73.5075,-73.3739C69.8997,-64.5668 65.5511,-53.9514 61.6574,-44.4465\"/>\n",
       "<polygon fill=\"black\" stroke=\"black\" points=\"64.8442,-42.9926 57.8146,-35.0657 58.3666,-45.6461 64.8442,-42.9926\"/>\n",
       "</g>\n",
       "</g>\n",
       "</svg>\n"
      ],
      "text/plain": [
       "<graphviz.dot.Digraph at 0x7fb071aae400>"
      ]
     },
     "execution_count": 19,
     "metadata": {},
     "output_type": "execute_result"
    }
   ],
   "source": [
    "ma2 = examples.ma2.get_model(seed_obs=4)\n",
    "elfi.draw(ma2)"
   ]
  },
  {
   "cell_type": "markdown",
   "metadata": {},
   "source": [
    "Replace the summaries S1 and S2 with our R autocovariance function."
   ]
  },
  {
   "cell_type": "code",
   "execution_count": 20,
   "metadata": {
    "collapsed": false
   },
   "outputs": [
    {
     "data": {
      "text/plain": [
       "Method: Rejection\n",
       "Number of posterior samples: 100\n",
       "Number of simulations: 10000\n",
       "Threshold: 0.11\n",
       "Posterior means: t1: 0.597, t2: 0.168"
      ]
     },
     "execution_count": 20,
     "metadata": {},
     "output_type": "execute_result"
    }
   ],
   "source": [
    "# Replace with R autocov\n",
    "S1 = elfi.Summary(autocovR, ma2['MA2'], 1)\n",
    "S2 = elfi.Summary(autocovR, ma2['MA2'], 2)\n",
    "ma2['S1'].become(S1)\n",
    "ma2['S2'].become(S2)\n",
    "\n",
    "# Run the inference\n",
    "rej = elfi.Rejection(ma2, 'd', batch_size=1000, seed=seed)\n",
    "rej.sample(100)"
   ]
  },
  {
   "cell_type": "markdown",
   "metadata": {},
   "source": [
    "## Interfacing with MATLAB"
   ]
  },
  {
   "cell_type": "markdown",
   "metadata": {},
   "source": [
    "There are a number of options for running MATLAB (or Octave) scripts from within Python. Here, evaluating the distance is demonstrated with a MATLAB function using the official [MATLAB Python cd API](http://www.mathworks.com/help/matlab/matlab-engine-for-python.html). (Tested with MATLAB 2016b.)"
   ]
  },
  {
   "cell_type": "code",
   "execution_count": 21,
   "metadata": {
    "collapsed": false
   },
   "outputs": [],
   "source": [
    "import matlab.engine"
   ]
  },
  {
   "cell_type": "markdown",
   "metadata": {},
   "source": [
    "A MATLAB session needs to be started (and stopped) separately:"
   ]
  },
  {
   "cell_type": "code",
   "execution_count": 22,
   "metadata": {
    "collapsed": false
   },
   "outputs": [],
   "source": [
    "eng = matlab.engine.start_matlab()  # takes a while..."
   ]
  },
  {
   "cell_type": "markdown",
   "metadata": {},
   "source": [
    "Similarly as with R, we have to write a piece of code to interface between MATLAB and Python:"
   ]
  },
  {
   "cell_type": "code",
   "execution_count": 23,
   "metadata": {
    "collapsed": false
   },
   "outputs": [],
   "source": [
    "def euclidean_M(x, y):\n",
    "    # MATLAB array initialized with Python's list\n",
    "    ddM = matlab.double((x-y).tolist())\n",
    "    \n",
    "    # euclidean distance\n",
    "    dM = eng.sqrt(eng.sum(eng.power(ddM, 2.0), 2))\n",
    "    \n",
    "    # Convert back to numpy array\n",
    "    d = np.atleast_1d(dM).reshape(-1)\n",
    "    return d"
   ]
  },
  {
   "cell_type": "code",
   "execution_count": 24,
   "metadata": {
    "collapsed": false
   },
   "outputs": [
    {
     "data": {
      "text/plain": [
       "array([ 1.41421356,  8.77496439,  1.        ])"
      ]
     },
     "execution_count": 24,
     "metadata": {},
     "output_type": "execute_result"
    }
   ],
   "source": [
    "# Test it\n",
    "euclidean_M(np.array([[1,2,3], [6,7,8], [2,2,3]]), np.array([2,2,2]))"
   ]
  },
  {
   "cell_type": "markdown",
   "metadata": {},
   "source": [
    "Load a ready made MA2 model:"
   ]
  },
  {
   "cell_type": "code",
   "execution_count": 25,
   "metadata": {
    "collapsed": false
   },
   "outputs": [
    {
     "data": {
      "image/svg+xml": [
       "<?xml version=\"1.0\" encoding=\"UTF-8\" standalone=\"no\"?>\n",
       "<!DOCTYPE svg PUBLIC \"-//W3C//DTD SVG 1.1//EN\"\n",
       " \"http://www.w3.org/Graphics/SVG/1.1/DTD/svg11.dtd\">\n",
       "<!-- Generated by graphviz version 2.38.0 (20140413.2041)\n",
       " -->\n",
       "<!-- Title: %3 Pages: 1 -->\n",
       "<svg width=\"110pt\" height=\"368pt\"\n",
       " viewBox=\"0.00 0.00 110.47 367.50\" xmlns=\"http://www.w3.org/2000/svg\" xmlns:xlink=\"http://www.w3.org/1999/xlink\">\n",
       "<g id=\"graph0\" class=\"graph\" transform=\"scale(1 1) rotate(0) translate(4 363.502)\">\n",
       "<title>%3</title>\n",
       "<polygon fill=\"white\" stroke=\"none\" points=\"-4,4 -4,-363.502 106.467,-363.502 106.467,4 -4,4\"/>\n",
       "<!-- MA2 -->\n",
       "<g id=\"node1\" class=\"node\"><title>MA2</title>\n",
       "<ellipse fill=\"#cccccc\" stroke=\"black\" cx=\"51.2333\" cy=\"-181.887\" rx=\"31.341\" ry=\"31.341\"/>\n",
       "<text text-anchor=\"middle\" x=\"51.2333\" y=\"-177.687\" font-family=\"Times,serif\" font-size=\"14.00\">MA2</text>\n",
       "</g>\n",
       "<!-- S1 -->\n",
       "<g id=\"node3\" class=\"node\"><title>S1</title>\n",
       "<ellipse fill=\"#cccccc\" stroke=\"black\" cx=\"21.2333\" cy=\"-93.2333\" rx=\"21.4691\" ry=\"21.4691\"/>\n",
       "<text text-anchor=\"middle\" x=\"21.2333\" y=\"-89.0333\" font-family=\"Times,serif\" font-size=\"14.00\">S1</text>\n",
       "</g>\n",
       "<!-- MA2&#45;&gt;S1 -->\n",
       "<g id=\"edge1\" class=\"edge\"><title>MA2&#45;&gt;S1</title>\n",
       "<path fill=\"none\" stroke=\"black\" d=\"M41.2437,-152.033C38.0142,-142.704 34.4347,-132.365 31.2064,-123.04\"/>\n",
       "<polygon fill=\"black\" stroke=\"black\" points=\"34.4534,-121.72 27.8744,-113.416 27.8386,-124.011 34.4534,-121.72\"/>\n",
       "</g>\n",
       "<!-- S2 -->\n",
       "<g id=\"node6\" class=\"node\"><title>S2</title>\n",
       "<ellipse fill=\"#cccccc\" stroke=\"black\" cx=\"81.2333\" cy=\"-93.2333\" rx=\"21.4691\" ry=\"21.4691\"/>\n",
       "<text text-anchor=\"middle\" x=\"81.2333\" y=\"-89.0333\" font-family=\"Times,serif\" font-size=\"14.00\">S2</text>\n",
       "</g>\n",
       "<!-- MA2&#45;&gt;S2 -->\n",
       "<g id=\"edge2\" class=\"edge\"><title>MA2&#45;&gt;S2</title>\n",
       "<path fill=\"none\" stroke=\"black\" d=\"M61.2228,-152.033C64.4523,-142.704 68.0319,-132.365 71.2602,-123.04\"/>\n",
       "<polygon fill=\"black\" stroke=\"black\" points=\"74.628,-124.011 74.5922,-113.416 68.0132,-121.72 74.628,-124.011\"/>\n",
       "</g>\n",
       "<!-- t2 -->\n",
       "<g id=\"node2\" class=\"node\"><title>t2</title>\n",
       "<ellipse fill=\"none\" stroke=\"black\" cx=\"75.2333\" cy=\"-267.856\" rx=\"18.5974\" ry=\"18.5974\"/>\n",
       "<text text-anchor=\"middle\" x=\"75.2333\" y=\"-263.656\" font-family=\"Times,serif\" font-size=\"14.00\">t2</text>\n",
       "</g>\n",
       "<!-- t2&#45;&gt;MA2 -->\n",
       "<g id=\"edge3\" class=\"edge\"><title>t2&#45;&gt;MA2</title>\n",
       "<path fill=\"none\" stroke=\"black\" d=\"M70.3765,-249.864C68.0754,-241.813 65.2233,-231.834 62.4296,-222.06\"/>\n",
       "<polygon fill=\"black\" stroke=\"black\" points=\"65.7914,-221.085 59.6779,-212.432 59.0609,-223.009 65.7914,-221.085\"/>\n",
       "</g>\n",
       "<!-- d -->\n",
       "<g id=\"node5\" class=\"node\"><title>d</title>\n",
       "<ellipse fill=\"none\" stroke=\"black\" cx=\"51.2333\" cy=\"-18\" rx=\"18\" ry=\"18\"/>\n",
       "<text text-anchor=\"middle\" x=\"51.2333\" y=\"-13.8\" font-family=\"Times,serif\" font-size=\"14.00\">d</text>\n",
       "</g>\n",
       "<!-- S1&#45;&gt;d -->\n",
       "<g id=\"edge4\" class=\"edge\"><title>S1&#45;&gt;d</title>\n",
       "<path fill=\"none\" stroke=\"black\" d=\"M28.959,-73.3739C32.5668,-64.5668 36.9154,-53.9514 40.8091,-44.4465\"/>\n",
       "<polygon fill=\"black\" stroke=\"black\" points=\"44.0999,-45.6461 44.652,-35.0657 37.6224,-42.9926 44.0999,-45.6461\"/>\n",
       "</g>\n",
       "<!-- t1 -->\n",
       "<g id=\"node4\" class=\"node\"><title>t1</title>\n",
       "<ellipse fill=\"none\" stroke=\"black\" cx=\"51.2333\" cy=\"-340.953\" rx=\"18.5974\" ry=\"18.5974\"/>\n",
       "<text text-anchor=\"middle\" x=\"51.2333\" y=\"-336.753\" font-family=\"Times,serif\" font-size=\"14.00\">t1</text>\n",
       "</g>\n",
       "<!-- t1&#45;&gt;MA2 -->\n",
       "<g id=\"edge5\" class=\"edge\"><title>t1&#45;&gt;MA2</title>\n",
       "<path fill=\"none\" stroke=\"black\" d=\"M49.5668,-322.122C48.678,-311.716 47.678,-298.329 47.2333,-286.405 46.4584,-265.629 47.1989,-242.51 48.2442,-223.399\"/>\n",
       "<polygon fill=\"black\" stroke=\"black\" points=\"51.7487,-223.425 48.8486,-213.234 44.7611,-223.009 51.7487,-223.425\"/>\n",
       "</g>\n",
       "<!-- t1&#45;&gt;t2 -->\n",
       "<g id=\"edge6\" class=\"edge\"><title>t1&#45;&gt;t2</title>\n",
       "<path fill=\"none\" stroke=\"black\" d=\"M56.9209,-323.104C59.7305,-314.781 63.1854,-304.546 66.3345,-295.218\"/>\n",
       "<polygon fill=\"black\" stroke=\"black\" points=\"69.7042,-296.178 69.5864,-285.584 63.0719,-293.939 69.7042,-296.178\"/>\n",
       "</g>\n",
       "<!-- S2&#45;&gt;d -->\n",
       "<g id=\"edge7\" class=\"edge\"><title>S2&#45;&gt;d</title>\n",
       "<path fill=\"none\" stroke=\"black\" d=\"M73.5075,-73.3739C69.8997,-64.5668 65.5511,-53.9514 61.6574,-44.4465\"/>\n",
       "<polygon fill=\"black\" stroke=\"black\" points=\"64.8442,-42.9926 57.8146,-35.0657 58.3666,-45.6461 64.8442,-42.9926\"/>\n",
       "</g>\n",
       "</g>\n",
       "</svg>\n"
      ],
      "text/plain": [
       "<graphviz.dot.Digraph at 0x7fb071a855f8>"
      ]
     },
     "execution_count": 25,
     "metadata": {},
     "output_type": "execute_result"
    }
   ],
   "source": [
    "ma2M = examples.ma2.get_model(seed_obs=4)\n",
    "elfi.draw(ma2M)"
   ]
  },
  {
   "cell_type": "markdown",
   "metadata": {
    "collapsed": false
   },
   "source": [
    "Replace the summaries S1 and S2 with our R autocovariance function."
   ]
  },
  {
   "cell_type": "code",
   "execution_count": 26,
   "metadata": {
    "collapsed": false
   },
   "outputs": [
    {
     "data": {
      "text/plain": [
       "Method: Rejection\n",
       "Number of posterior samples: 100\n",
       "Number of simulations: 10000\n",
       "Threshold: 0.111\n",
       "Posterior means: t1: 0.6, t2: 0.169"
      ]
     },
     "execution_count": 26,
     "metadata": {},
     "output_type": "execute_result"
    }
   ],
   "source": [
    "# Replace with Matlab distance implementation\n",
    "d = elfi.Distance(euclidean_M, ma2M['S1'], ma2M['S2'])\n",
    "ma2M['d'].become(d)\n",
    "\n",
    "# Run the inference\n",
    "rej = elfi.Rejection(ma2M, 'd', batch_size=1000, seed=seed)\n",
    "rej.sample(100)"
   ]
  },
  {
   "cell_type": "markdown",
   "metadata": {},
   "source": [
    "Finally, don't forget to quit the MATLAB session:"
   ]
  },
  {
   "cell_type": "code",
   "execution_count": 27,
   "metadata": {
    "collapsed": false
   },
   "outputs": [],
   "source": [
    "eng.quit()"
   ]
  },
  {
   "cell_type": "markdown",
   "metadata": {},
   "source": [
    "## Verdict\n",
    "\n",
    "We showed here a few examples of how to incorporate non Python operations to ELFI models. There are multiple other ways to achieve the same results and even make the wrapping more efficient.\n",
    "\n",
    "Wrapping often introduces some overhead to the evaluation of the generative model. In many cases however this is not an issue since the operations are usually expensive by themselves making the added overhead insignificant."
   ]
  },
  {
   "cell_type": "markdown",
   "metadata": {
    "collapsed": true
   },
   "source": [
    "### References\n",
    "- [1] Tanaka, Mark M., et al. \"Using approximate Bayesian computation to estimate\n",
    "tuberculosis transmission parameters from genotype data.\"\n",
    "Genetics 173.3 (2006): 1511-1520.\n",
    "- [2] Jarno Lintusaari, Michael U. Gutmann, Ritabrata Dutta, Samuel Kaski, Jukka Corander; Fundamentals and Recent Developments in Approximate Bayesian Computation. Syst Biol 2017; 66 (1): e66-e82. doi: 10.1093/sysbio/syw077"
   ]
  }
 ],
 "metadata": {
  "anaconda-cloud": {},
  "kernelspec": {
   "display_name": "Python 3",
   "language": "python",
   "name": "python3"
  },
  "language_info": {
   "codemirror_mode": {
    "name": "ipython",
    "version": 3
   },
   "file_extension": ".py",
   "mimetype": "text/x-python",
   "name": "python",
   "nbconvert_exporter": "python",
   "pygments_lexer": "ipython3",
   "version": "3.5.3"
  }
 },
 "nbformat": 4,
 "nbformat_minor": 1
}
